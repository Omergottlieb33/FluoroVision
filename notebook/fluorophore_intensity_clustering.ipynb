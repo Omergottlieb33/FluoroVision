{
 "cells": [
  {
   "cell_type": "markdown",
   "metadata": {},
   "source": [
    "#### Imports"
   ]
  },
  {
   "cell_type": "code",
   "execution_count": 1,
   "metadata": {},
   "outputs": [],
   "source": [
    "from tifffile import TiffFile\n",
    "import re\n",
    "import pandas as pd\n",
    "from tqdm import tqdm\n",
    "import sys\n",
    "import numpy as np\n",
    "import matplotlib.pyplot as plt"
   ]
  },
  {
   "cell_type": "code",
   "execution_count": 2,
   "metadata": {},
   "outputs": [],
   "source": [
    "sys.path.append(r'C:\\Users\\97254\\Desktop\\git\\FluoroVision\\src')"
   ]
  },
  {
   "cell_type": "code",
   "execution_count": 3,
   "metadata": {},
   "outputs": [],
   "source": [
    "from utils.common_utils import extract_frame_number\n",
    "from post_process.fluorophore_intensity import FluorophoreIntensityEstimator"
   ]
  },
  {
   "cell_type": "markdown",
   "metadata": {},
   "source": [
    "#### Functions"
   ]
  },
  {
   "cell_type": "code",
   "execution_count": null,
   "metadata": {},
   "outputs": [],
   "source": []
  },
  {
   "cell_type": "markdown",
   "metadata": {},
   "source": [
    "#### Inputs"
   ]
  },
  {
   "cell_type": "code",
   "execution_count": 4,
   "metadata": {},
   "outputs": [],
   "source": [
    "video_path = r'C:\\Users\\97254\\Desktop\\Resources\\Technion\\exploratory_resaerach\\data\\AB3C.tif'\n",
    "annotation_path = r'C:\\Users\\97254\\Desktop\\Resources\\Technion\\exploratory_resaerach\\data\\AB3C_gt_new_format.csv'"
   ]
  },
  {
   "cell_type": "code",
   "execution_count": 5,
   "metadata": {},
   "outputs": [],
   "source": [
    "df = pd.read_csv(annotation_path)"
   ]
  },
  {
   "cell_type": "code",
   "execution_count": 6,
   "metadata": {},
   "outputs": [],
   "source": [
    "df['frame_number'] = df['frame'].apply(extract_frame_number)"
   ]
  },
  {
   "cell_type": "code",
   "execution_count": 7,
   "metadata": {},
   "outputs": [],
   "source": [
    "# debug\n",
    "peak_area_opt_debug_array = np.array([[23,0],[49,0],[52,0],[77,0],[86,0],[90,0],[90,2],[143,0],[152,0],[163,0]])\n",
    "non_continous_clusters = np.array([[44,0],[54,0],[79,0],[80,0],[125,0],[146,0],[148,1],[150,0],[151,0],[154,0],[155,0],[156,0],[158,0]])"
   ]
  },
  {
   "cell_type": "code",
   "execution_count": 9,
   "metadata": {},
   "outputs": [
    {
     "name": "stderr",
     "output_type": "stream",
     "text": [
      "0it [00:00, ?it/s]Clipping input data to the valid range for imshow with RGB data ([0..1] for floats or [0..255] for integers).\n",
      "1it [00:00,  3.63it/s]Clipping input data to the valid range for imshow with RGB data ([0..1] for floats or [0..255] for integers).\n",
      "1it [00:00,  1.73it/s]\n"
     ]
    }
   ],
   "source": [
    "fluoro_intesity1_list, fluoro_intesity2_list,fluoro_intesity2_list = [], [],[]\n",
    "debug = True\n",
    "estimator = FluorophoreIntensityEstimator()\n",
    "with TiffFile(video_path) as tif:\n",
    "      for i, page in tqdm(enumerate(tif.pages)):\n",
    "        frame = page.asarray()\n",
    "        frame_df = df.loc[df['frame_number'] == i+1]\n",
    "        box_list = []\n",
    "        for index, row in frame_df.iterrows():\n",
    "            box_list.append([row['x_center'], row['y_center'], row['width'], row['height']])\n",
    "        for j, box in enumerate(box_list):\n",
    "            if debug:\n",
    "                save_path = r'C:\\Users\\97254\\Desktop\\Resources\\Technion\\exploratory_resaerach\\debug\\fluoropgore_estimation\\AB3C_opt_rectangle\\frame_{}_box_{}_refactor_test.png'.format(i, j)\n",
    "                fluoro_intesity1, fluoro_intesity2, fluoro_intesity3 = estimator(frame, box, debug, save_path)\n",
    "            else:\n",
    "                fluoro_intesity1, fluoro_intesity2, fluoro_intesity3 = estimator(frame, box, debug, None)\n",
    "            fluoro_intesity1_list.append(fluoro_intesity1)\n",
    "            fluoro_intesity2_list.append(fluoro_intesity2)\n",
    "        if i== 1:\n",
    "            break"
   ]
  },
  {
   "cell_type": "code",
   "execution_count": null,
   "metadata": {},
   "outputs": [],
   "source": []
  }
 ],
 "metadata": {
  "kernelspec": {
   "display_name": "Python 3",
   "language": "python",
   "name": "python3"
  },
  "language_info": {
   "codemirror_mode": {
    "name": "ipython",
    "version": 3
   },
   "file_extension": ".py",
   "mimetype": "text/x-python",
   "name": "python",
   "nbconvert_exporter": "python",
   "pygments_lexer": "ipython3",
   "version": "3.10.0"
  }
 },
 "nbformat": 4,
 "nbformat_minor": 2
}
