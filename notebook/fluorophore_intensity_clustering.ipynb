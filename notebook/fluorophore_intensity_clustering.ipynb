{
 "cells": [
  {
   "cell_type": "markdown",
   "metadata": {},
   "source": [
    "#### Imports"
   ]
  },
  {
   "cell_type": "code",
   "execution_count": 1,
   "metadata": {},
   "outputs": [],
   "source": [
    "from tifffile import TiffFile\n",
    "import cv2\n",
    "import re\n",
    "import pandas as pd\n",
    "import matplotlib.pyplot as plt\n",
    "import numpy as np\n",
    "from scipy.fft import fft, ifft\n",
    "from scipy.signal import find_peaks\n",
    "\n",
    "from tqdm import tqdm\n",
    "from sklearn.cluster import KMeans\n",
    "import os\n",
    "import sys"
   ]
  },
  {
   "cell_type": "code",
   "execution_count": 2,
   "metadata": {},
   "outputs": [],
   "source": [
    "sys.path.append(r'C:\\Users\\97254\\Desktop\\git\\FluoroVision\\src')"
   ]
  },
  {
   "cell_type": "code",
   "execution_count": 3,
   "metadata": {},
   "outputs": [],
   "source": [
    "from post_process.fluorophore_intensity import  get_bead_fluoro_intensity"
   ]
  },
  {
   "cell_type": "markdown",
   "metadata": {},
   "source": [
    "#### Functions"
   ]
  },
  {
   "cell_type": "code",
   "execution_count": 4,
   "metadata": {},
   "outputs": [],
   "source": [
    "def extract_frame_number(filename):\n",
    "    \"\"\"Extract the frame number from a filename like 'frame_0013.png'.\"\"\"\n",
    "    match = re.search(r'frame_(\\d+)\\.png', filename)\n",
    "    if match:\n",
    "        return int(match.group(1))\n",
    "    else:\n",
    "        raise ValueError(f\"Filename {filename} does not match the expected pattern.\")"
   ]
  },
  {
   "cell_type": "markdown",
   "metadata": {},
   "source": [
    "#### Inputs"
   ]
  },
  {
   "cell_type": "code",
   "execution_count": 5,
   "metadata": {},
   "outputs": [],
   "source": [
    "video_path = r'C:\\Users\\97254\\Desktop\\Resources\\Technion\\exploratory_resaerach\\data\\AB3C.tif'\n",
    "annotation_path = r'C:\\Users\\97254\\Desktop\\Resources\\Technion\\exploratory_resaerach\\data\\AB3C_gt_new_format.csv'"
   ]
  },
  {
   "cell_type": "code",
   "execution_count": 6,
   "metadata": {},
   "outputs": [],
   "source": [
    "df = pd.read_csv(annotation_path)"
   ]
  },
  {
   "cell_type": "code",
   "execution_count": 7,
   "metadata": {},
   "outputs": [],
   "source": [
    "df['frame_number'] = df['frame'].apply(extract_frame_number)"
   ]
  },
  {
   "cell_type": "code",
   "execution_count": null,
   "metadata": {},
   "outputs": [],
   "source": [
    "with TiffFile(video_path) as tif:\n",
    "      intensity1_list, intensity2_list = [], []\n",
    "      for i, page in tqdm(enumerate(tif.pages)):\n",
    "        frame = page.asarray()\n",
    "        frame_df = df.loc[df['frame_number'] == i+1]\n",
    "        box_list = []\n",
    "        for index, row in frame_df.iterrows():\n",
    "            box_list.append([row['x_center'], row['y_center'], row['width'], row['height']])\n",
    "        for box in box_list:\n",
    "            fluoro_intesity1, fluoro_intesity2 = get_bead_fluoro_intensity(frame, box, num_peaks=3, min_distance=10, peak_radius=3, plot=True)\n",
    "        if i == 1:\n",
    "            break"
   ]
  }
 ],
 "metadata": {
  "kernelspec": {
   "display_name": "Python 3",
   "language": "python",
   "name": "python3"
  },
  "language_info": {
   "codemirror_mode": {
    "name": "ipython",
    "version": 3
   },
   "file_extension": ".py",
   "mimetype": "text/x-python",
   "name": "python",
   "nbconvert_exporter": "python",
   "pygments_lexer": "ipython3",
   "version": "3.10.0"
  }
 },
 "nbformat": 4,
 "nbformat_minor": 2
}
